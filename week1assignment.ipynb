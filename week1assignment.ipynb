{
 "cells": [
  {
   "cell_type": "markdown",
   "id": "1e0d4bfa-8183-4382-bbcc-15babf64637c",
   "metadata": {},
   "source": [
    "Q1. Create one variable containing following type of data:\n",
    "(i) string\n",
    "(ii) list\n",
    "(iii) float\n",
    "(iv) tuple"
   ]
  },
  {
   "cell_type": "markdown",
   "id": "30412392-cba1-44b6-8cef-1f3047ae1233",
   "metadata": {},
   "source": [
    "A1:"
   ]
  },
  {
   "cell_type": "code",
   "execution_count": 2,
   "id": "18052245-f71c-47a6-a225-8218997c4b5c",
   "metadata": {},
   "outputs": [],
   "source": [
    "my_string = \"Hello, world!\"\n",
    "my_list = [1, 2, 3, 4, 5]\n",
    "my_float = 3.14\n",
    "my_tuple = (1, \"two\", 3.0)"
   ]
  },
  {
   "cell_type": "markdown",
   "id": "1c887721-b8f5-4f65-971f-94a74a017a25",
   "metadata": {},
   "source": [
    "Q2. Given are some following variables containing data:\n",
    "(i) var1 = ‘ ‘\n",
    "(ii) var2 = ‘[ DS , ML , Python]’\n",
    "(iii) var3 = [ ‘DS’ , ’ML’ , ‘Python’ ]\n",
    "(iv) var4 = 1."
   ]
  },
  {
   "cell_type": "markdown",
   "id": "0533064a-2305-4914-b4a5-860023aa00dc",
   "metadata": {},
   "source": [
    "A2:\n",
    "var1 is a string (str).\n",
    "var2 is a string (str).\n",
    "var3 is a list (list).\n",
    "var4 is a floating-point number (float)."
   ]
  },
  {
   "cell_type": "markdown",
   "id": "939ea269-6223-4222-82fa-5ebdbd9b1eef",
   "metadata": {},
   "source": [
    "Q3. Explain the use of the following operators using an example:\n",
    "(i) /\n",
    "(ii) %\n",
    "(iii) //\n",
    "(iv) **"
   ]
  },
  {
   "cell_type": "markdown",
   "id": "6e69e197-134b-4076-a61a-cf3ae9b3d99f",
   "metadata": {},
   "source": [
    "A3:"
   ]
  },
  {
   "cell_type": "code",
   "execution_count": 8,
   "id": "a07fb02b-abbe-42b9-ab28-7b5d84e201db",
   "metadata": {},
   "outputs": [
    {
     "name": "stdout",
     "output_type": "stream",
     "text": [
      "3.3333333333333335\n"
     ]
    }
   ],
   "source": [
    "x = 10\n",
    "y = 3\n",
    "result = x / y\n",
    "print(result)"
   ]
  },
  {
   "cell_type": "code",
   "execution_count": 9,
   "id": "47684694-bf4f-4b64-a3ac-d1dda673f253",
   "metadata": {},
   "outputs": [
    {
     "name": "stdout",
     "output_type": "stream",
     "text": [
      "1\n"
     ]
    }
   ],
   "source": [
    "x = 10\n",
    "y = 3\n",
    "result = x % y\n",
    "print(result)"
   ]
  },
  {
   "cell_type": "code",
   "execution_count": 10,
   "id": "fcbe670b-a13d-4cfc-8e64-eda8a2e75b9d",
   "metadata": {},
   "outputs": [
    {
     "name": "stdout",
     "output_type": "stream",
     "text": [
      "3\n"
     ]
    }
   ],
   "source": [
    "x = 10\n",
    "y = 3\n",
    "result = x // y\n",
    "print(result)"
   ]
  },
  {
   "cell_type": "code",
   "execution_count": 11,
   "id": "1a3588f3-5367-45d2-bff8-3b90e7063370",
   "metadata": {},
   "outputs": [
    {
     "name": "stdout",
     "output_type": "stream",
     "text": [
      "8\n"
     ]
    }
   ],
   "source": [
    "x = 2\n",
    "y = 3\n",
    "result = x ** y\n",
    "print(result)"
   ]
  },
  {
   "cell_type": "markdown",
   "id": "fe15e9d6-ae27-444d-8289-34e0f52e084e",
   "metadata": {},
   "source": [
    "Q4. Create a list of length 10 of your choice containing multiple types of data. Using for loop print the\n",
    "element and its data type."
   ]
  },
  {
   "cell_type": "markdown",
   "id": "45ea5b33-d3a5-41d2-8025-57376f96c90e",
   "metadata": {},
   "source": [
    "A4:"
   ]
  },
  {
   "cell_type": "code",
   "execution_count": 12,
   "id": "1373477f-8771-4777-a26d-f5640c425fd3",
   "metadata": {},
   "outputs": [
    {
     "name": "stdout",
     "output_type": "stream",
     "text": [
      "Element: 1\n",
      "Data Type: <class 'int'>\n",
      "\n",
      "Element: 2.5\n",
      "Data Type: <class 'float'>\n",
      "\n",
      "Element: Hello\n",
      "Data Type: <class 'str'>\n",
      "\n",
      "Element: True\n",
      "Data Type: <class 'bool'>\n",
      "\n",
      "Element: [1, 2, 3]\n",
      "Data Type: <class 'list'>\n",
      "\n",
      "Element: ('apple', 'banana')\n",
      "Data Type: <class 'tuple'>\n",
      "\n",
      "Element: {'name': 'John', 'age': 25}\n",
      "Data Type: <class 'dict'>\n",
      "\n",
      "Element: None\n",
      "Data Type: <class 'NoneType'>\n",
      "\n",
      "Element: (5+3j)\n",
      "Data Type: <class 'complex'>\n",
      "\n",
      "Element: False\n",
      "Data Type: <class 'bool'>\n",
      "\n"
     ]
    }
   ],
   "source": [
    "my_list = [1, 2.5, \"Hello\", True, [1, 2, 3], (\"apple\", \"banana\"), {\"name\": \"John\", \"age\": 25}, None, 5 + 3j, False]\n",
    "\n",
    "for element in my_list:\n",
    "    print(\"Element:\", element)\n",
    "    print(\"Data Type:\", type(element))\n",
    "    print()"
   ]
  },
  {
   "cell_type": "markdown",
   "id": "a6a695d5-70d4-4726-86ff-f719bc0c2f4b",
   "metadata": {},
   "source": [
    "Q5. Using a while loop, verify if the number A is purely divisible by number B and if so then how many times it can be divisible."
   ]
  },
  {
   "cell_type": "markdown",
   "id": "7d00159e-fdf8-4c9b-9b9e-67021d8829ad",
   "metadata": {},
   "source": [
    "A5:"
   ]
  },
  {
   "cell_type": "code",
   "execution_count": 13,
   "id": "5e2e88c7-007d-4e01-9769-9d54d7043629",
   "metadata": {},
   "outputs": [
    {
     "name": "stdout",
     "output_type": "stream",
     "text": [
      "Number A is divisible by number B.\n",
      "A can be divided by B 1 times.\n"
     ]
    }
   ],
   "source": [
    "A = 84\n",
    "B = 7\n",
    "\n",
    "count = 0\n",
    "while A % B == 0:\n",
    "    A = A / B\n",
    "    count += 1\n",
    "\n",
    "if count > 0:\n",
    "    print(\"Number A is divisible by number B.\")\n",
    "    print(\"A can be divided by B\", count, \"times.\")\n",
    "else:\n",
    "    print(\"Number A is not divisible by number B.\")"
   ]
  },
  {
   "cell_type": "markdown",
   "id": "e4d9af76-8d31-453c-b141-b1a94284f398",
   "metadata": {},
   "source": [
    "Q6. Create a list containing 25 int type data. Using for loop and if-else condition print if the element is divisible by 3 or not."
   ]
  },
  {
   "cell_type": "markdown",
   "id": "c63026a0-a88f-4415-b68c-e32eec6c3f76",
   "metadata": {},
   "source": [
    "A6:"
   ]
  },
  {
   "cell_type": "code",
   "execution_count": 15,
   "id": "74a61920-2a94-4b3b-b853-e96d7aa49870",
   "metadata": {},
   "outputs": [
    {
     "name": "stdout",
     "output_type": "stream",
     "text": [
      "10 is not divisible by 3\n",
      "15 is divisible by 3\n",
      "6 is divisible by 3\n",
      "23 is not divisible by 3\n",
      "30 is divisible by 3\n",
      "18 is divisible by 3\n",
      "9 is divisible by 3\n",
      "4 is not divisible by 3\n",
      "21 is divisible by 3\n",
      "12 is divisible by 3\n",
      "7 is not divisible by 3\n",
      "27 is divisible by 3\n",
      "16 is not divisible by 3\n",
      "3 is divisible by 3\n",
      "8 is not divisible by 3\n",
      "14 is not divisible by 3\n",
      "11 is not divisible by 3\n",
      "24 is divisible by 3\n",
      "19 is not divisible by 3\n",
      "33 is divisible by 3\n",
      "22 is not divisible by 3\n",
      "5 is not divisible by 3\n",
      "13 is not divisible by 3\n",
      "20 is not divisible by 3\n",
      "17 is not divisible by 3\n"
     ]
    }
   ],
   "source": [
    "my_list = [10, 15, 6, 23, 30, 18, 9, 4, 21, 12, 7, 27, 16, 3, 8, 14, 11, 24, 19, 33, 22, 5, 13, 20, 17]\n",
    "\n",
    "for element in my_list:\n",
    "    if element % 3 == 0:\n",
    "        print(element, \"is divisible by 3\")\n",
    "    else:\n",
    "        print(element, \"is not divisible by 3\")"
   ]
  },
  {
   "cell_type": "markdown",
   "id": "4f86d260-f604-45b6-a0c7-d0edcd2671c0",
   "metadata": {},
   "source": [
    "Q7. What do you understand about mutable and immutable data types? Give examples for both showing\n",
    "this property."
   ]
  },
  {
   "cell_type": "markdown",
   "id": "782c1354-32a6-4130-90dc-d403fbe7ac8d",
   "metadata": {},
   "source": [
    "A7:"
   ]
  },
  {
   "cell_type": "markdown",
   "id": "72e001b1-c682-4076-86f7-a18c8dd0fd8a",
   "metadata": {},
   "source": [
    "Mutable:"
   ]
  },
  {
   "cell_type": "code",
   "execution_count": 16,
   "id": "12a32118-bbe9-4e2d-81f7-8eaaabfa6229",
   "metadata": {},
   "outputs": [
    {
     "name": "stdout",
     "output_type": "stream",
     "text": [
      "[1, 2, 3]\n",
      "[1, 2, 3, 4]\n",
      "[1, 5, 3, 4]\n"
     ]
    }
   ],
   "source": [
    "my_list = [1, 2, 3]\n",
    "print(my_list)\n",
    "\n",
    "my_list.append(4)\n",
    "print(my_list)\n",
    "\n",
    "my_list[1] = 5\n",
    "print(my_list)\n"
   ]
  },
  {
   "cell_type": "markdown",
   "id": "890ef0eb-396a-450f-af94-8c962b48648a",
   "metadata": {},
   "source": [
    "Immutable:"
   ]
  },
  {
   "cell_type": "code",
   "execution_count": 17,
   "id": "8837d178-9e3f-4a23-9077-05d951ea42de",
   "metadata": {},
   "outputs": [
    {
     "name": "stdout",
     "output_type": "stream",
     "text": [
      "Hello\n",
      "Hello, world!\n"
     ]
    }
   ],
   "source": [
    "my_string = \"Hello\"\n",
    "print(my_string)\n",
    "\n",
    "my_string = my_string + \", world!\"\n",
    "print(my_string)"
   ]
  },
  {
   "cell_type": "code",
   "execution_count": null,
   "id": "321ca8de-89bd-4a22-b612-a5b9b04d6af3",
   "metadata": {},
   "outputs": [],
   "source": []
  }
 ],
 "metadata": {
  "kernelspec": {
   "display_name": "Python 3 (ipykernel)",
   "language": "python",
   "name": "python3"
  },
  "language_info": {
   "codemirror_mode": {
    "name": "ipython",
    "version": 3
   },
   "file_extension": ".py",
   "mimetype": "text/x-python",
   "name": "python",
   "nbconvert_exporter": "python",
   "pygments_lexer": "ipython3",
   "version": "3.10.8"
  }
 },
 "nbformat": 4,
 "nbformat_minor": 5
}
